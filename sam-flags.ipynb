{
 "cells": [
  {
   "cell_type": "markdown",
   "source": [
    "# SAM(BAM) file flag decoder"
   ],
   "metadata": {}
  },
  {
   "cell_type": "code",
   "execution_count": 56,
   "source": [
    "from IPython.display import Javascript\n",
    "Javascript('IPython.notebook.execute_cells_below()')\n",
    "box = show_widgets()\n",
    "display(box)"
   ],
   "outputs": [
    {
     "output_type": "display_data",
     "data": {
      "application/vnd.jupyter.widget-view+json": {
       "version_major": 2,
       "version_minor": 0,
       "model_id": "d236d48da9764691912bc2eb072e635a"
      },
      "text/plain": [
       "VBox(children=(Text(value='', description='Flag value'), HTML(value='')))"
      ]
     },
     "metadata": {}
    }
   ],
   "metadata": {}
  },
  {
   "cell_type": "code",
   "execution_count": 47,
   "source": [
    "from jinja2 import Template\n",
    "from IPython.display import display\n",
    "import ipywidgets as widgets\n",
    "\n",
    "tmpl = Template('''<table>\n",
    "    <thead><tr>\n",
    "        <th>Mask</th>\n",
    "        <th>Value</th>\n",
    "        <th>Description</th>\n",
    "    </th></thead>\n",
    "    <tr>\n",
    "        <td>0x1</td>\n",
    "        <td>{{ b0 }}</td>\n",
    "        <td>Template having multiple segments in sequencing</td>\n",
    "    </tr>\n",
    "    <tr>\n",
    "        <td>0x2</td>\n",
    "        <td>{{ b1 }}</td>\n",
    "        <td>Each segment properly aligned according to the aligner</td>\n",
    "    </tr>\n",
    "    <tr>\n",
    "        <td>0x4</td>\n",
    "        <td>{{ b2 }}</td>\n",
    "        <td>Segment Unmapped</td>\n",
    "    </tr>\n",
    "    <tr>\n",
    "        <td>0x8</td>\n",
    "        <td>{{ b3 }}</td>\n",
    "        <td>Next segment in the template unmapped</td>\n",
    "    </tr>\n",
    "    <tr>\n",
    "        <td>0x10</td>\n",
    "        <td>{{ b4 }}</td>\n",
    "        <td>SEQ being reverse complemented</td>\n",
    "    </tr>\n",
    "    <tr>\n",
    "        <td>0x20</td>\n",
    "        <td>{{ b5 }}</td>\n",
    "        <td>SEQ of the next segment in the template being reverse complemented</td>\n",
    "    </tr>\n",
    "    <tr>\n",
    "        <td>0x40</td>\n",
    "        <td>{{ b6 }}</td>\n",
    "        <td>The first segment in the template</td>\n",
    "    </tr>\n",
    "    <tr>\n",
    "        <td>0x80</td>\n",
    "        <td>{{ b7 }}</td>\n",
    "        <td>The last segment in the template</td>\n",
    "    </tr>\n",
    "    <tr>\n",
    "        <td>0x100</td>\n",
    "        <td>{{ b8 }}</td>\n",
    "        <td>Secondary alignment</td>\n",
    "    </tr>\n",
    "    <tr>\n",
    "        <td>0x200</td>\n",
    "        <td>{{ b9 }}</td>\n",
    "        <td>Not passing filters, such as platform/vendor quality controls</td>\n",
    "    </tr>\n",
    "    <tr>\n",
    "        <td>0x400</td>\n",
    "        <td>{{ b10 }}</td>\n",
    "        <td>PCR or optical duplicate</td>\n",
    "    </tr>\n",
    "    <tr>\n",
    "        <td>0x800</td>\n",
    "        <td>{{ b11 }}</td>\n",
    "        <td>Supplementary alignmen</td>\n",
    "    </tr>\n",
    "</table>\n",
    "''')\n",
    "\n",
    "def show_widgets():\n",
    "    flags = widgets.Text(description='Flag value')\n",
    "    table = widgets.HTML()\n",
    "    output = widgets.Output()\n",
    "\n",
    "    @output.capture()\n",
    "    def on_value_change(change):\n",
    "        if change['name'] == 'value':\n",
    "            output.clear_output()\n",
    "            flag_val = int(change['new']) if change['new'].isdecimal() else 0\n",
    "            vals = dict()\n",
    "            for n in range(12):\n",
    "                vals[f'b{n}'] = flag_val >> n & 1\n",
    "            html = tmpl.render(vals)\n",
    "            table.value = html\n",
    "    \n",
    "    flags.observe(on_value_change)\n",
    "    return widgets.VBox([flags, table])"
   ],
   "outputs": [],
   "metadata": {}
  }
 ],
 "metadata": {
  "orig_nbformat": 4,
  "language_info": {
   "name": "python",
   "version": "3.9.7",
   "mimetype": "text/x-python",
   "codemirror_mode": {
    "name": "ipython",
    "version": 3
   },
   "pygments_lexer": "ipython3",
   "nbconvert_exporter": "python",
   "file_extension": ".py"
  },
  "kernelspec": {
   "name": "python3",
   "display_name": "Python 3.9.7 64-bit ('bio': conda)"
  },
  "interpreter": {
   "hash": "23575593a49ab36e9e4678636f0eb4aa14fb5e79cc109954e6c9d2b074d6b5a2"
  }
 },
 "nbformat": 4,
 "nbformat_minor": 2
}